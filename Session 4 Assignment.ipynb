{
 "cells": [
  {
   "cell_type": "markdown",
   "metadata": {},
   "source": [
    "## <center>Task 1</center>"
   ]
  },
  {
   "cell_type": "markdown",
   "metadata": {},
   "source": [
    "1. Problem Statement<br>\n",
    "Write a function to find moving average in an array over a window:<br>\n",
    "Test it over [3, 5, 7, 2, 8, 10, 11, 65, 72, 81, 99, 100, 150] and window of 3."
   ]
  },
  {
   "cell_type": "code",
   "execution_count": 2,
   "metadata": {},
   "outputs": [
    {
     "name": "stdout",
     "output_type": "stream",
     "text": [
      "Y = [  5.           4.66666667   5.66666667   6.66666667   9.66666667\n",
      "  28.66666667  49.33333333  72.66666667  84.          93.33333333\n",
      " 116.33333333]\n"
     ]
    },
    {
     "data": {
      "image/png": "[encoded data removed]",
      "text/plain": [
       "<Figure size 432x288 with 1 Axes>"
      ]
     },
     "metadata": {
      "needs_background": "light"
     },
     "output_type": "display_data"
    }
   ],
   "source": [
    "import numpy as np\n",
    "from numpy import convolve\n",
    "import matplotlib.pyplot as plt\n",
    " \n",
    "def movingaverage (values, window):\n",
    "    weights = np.repeat(1.0, window)/window\n",
    "    sma = np.convolve(values, weights, 'valid')\n",
    "    return sma\n",
    "\n",
    "# x = [100, 200, 300, 400, 500, 600, 700, 800, 900, 1000, 1500]\n",
    "# y = [3,5,7,2,8,10,11,65,72,81,99,100,150]\n",
    "x = [3,5,7,2,8,10,11,65,72,81,99,100,150]\n",
    " \n",
    "yMA = movingaverage(x,3)\n",
    "y = yMA\n",
    "print(\"Y =\",y)\n",
    "\n",
    "plt.plot(x[len(x)-len(yMA):],yMA)\n",
    "plt.show()"
   ]
  },
  {
   "cell_type": "markdown",
   "metadata": {},
   "source": [
    "<h1> <center> Task 2 </center></h1>"
   ]
  },
  {
   "cell_type": "markdown",
   "metadata": {},
   "source": [
    "1. How-to-count-distance-to-the-previous-zero<br>\n",
    "For each value, count the difference back to the previous zero (or the start of the Series,whichever is closer)<br>\n",
    "create a new column 'Y'<br>\n",
    "Consider a DataFrame df where there is an integer column 'X'<br>\n",
    "import pandas as pd<br>\n",
    "df = pd.DataFrame({'X': [7, 2, 0, 3, 4, 2, 5, 0, 3, 4]})<br>"
   ]
  },
  {
   "cell_type": "code",
   "execution_count": 3,
   "metadata": {},
   "outputs": [
    {
     "name": "stdout",
     "output_type": "stream",
     "text": [
      "   X  Y\n",
      "0  7  1\n",
      "1  2  2\n",
      "2  0  0\n",
      "3  3  1\n",
      "4  4  2\n",
      "5  2  3\n",
      "6  5  4\n",
      "7  0  0\n",
      "8  3  1\n",
      "9  4  2\n"
     ]
    }
   ],
   "source": [
    "import pandas as pd\n",
    "import random\n",
    "from random import randint\n",
    "\n",
    "df = pd.DataFrame({'X': [7, 2, 0, 3, 4, 2, 5, 0, 3, 4]})\n",
    "izero = np.r_[-1, (df['X'] == 0).nonzero()[0]]\n",
    "idx = np.arange(len(df))\n",
    "df['Y'] = idx - izero[np.searchsorted(izero - 1, idx) - 1]\n",
    "print(df)"
   ]
  },
  {
   "cell_type": "markdown",
   "metadata": {},
   "source": [
    "2. Create a DatetimeIndex that contains each business day of 2015 and use it to index a Series of\n",
    "random numbers."
   ]
  },
  {
   "cell_type": "code",
   "execution_count": 4,
   "metadata": {},
   "outputs": [
    {
     "name": "stdout",
     "output_type": "stream",
     "text": [
      "2015-01-01    0.949329\n",
      "2015-01-02    0.245920\n",
      "2015-01-05    0.276002\n",
      "2015-01-06    0.869932\n",
      "2015-01-07    0.378587\n",
      "2015-01-08    0.085522\n",
      "2015-01-09    0.070948\n",
      "2015-01-12    0.499015\n",
      "2015-01-13    0.710320\n",
      "2015-01-14    0.699546\n",
      "2015-01-15    0.859215\n",
      "2015-01-16    0.052102\n",
      "2015-01-19    0.100152\n",
      "2015-01-20    0.614118\n",
      "2015-01-21    0.553854\n",
      "2015-01-22    0.853776\n",
      "2015-01-23    0.324527\n",
      "2015-01-26    0.424570\n",
      "2015-01-27    0.960324\n",
      "2015-01-28    0.444628\n",
      "2015-01-29    0.703670\n",
      "2015-01-30    0.652044\n",
      "2015-02-02    0.808189\n",
      "2015-02-03    0.325445\n",
      "2015-02-04    0.977949\n",
      "2015-02-05    0.647538\n",
      "2015-02-06    0.642222\n",
      "2015-02-09    0.002356\n",
      "2015-02-10    0.930616\n",
      "2015-02-11    0.072484\n",
      "                ...   \n",
      "2015-11-20    0.986413\n",
      "2015-11-23    0.441017\n",
      "2015-11-24    0.650394\n",
      "2015-11-25    0.136868\n",
      "2015-11-26    0.218487\n",
      "2015-11-27    0.989968\n",
      "2015-11-30    0.370278\n",
      "2015-12-01    0.178707\n",
      "2015-12-02    0.614373\n",
      "2015-12-03    0.644862\n",
      "2015-12-04    0.828917\n",
      "2015-12-07    0.037161\n",
      "2015-12-08    0.798585\n",
      "2015-12-09    0.251394\n",
      "2015-12-10    0.595280\n",
      "2015-12-11    0.218542\n",
      "2015-12-14    0.636458\n",
      "2015-12-15    0.086677\n",
      "2015-12-16    0.191957\n",
      "2015-12-17    0.256238\n",
      "2015-12-18    0.995037\n",
      "2015-12-21    0.525246\n",
      "2015-12-22    0.759384\n",
      "2015-12-23    0.684108\n",
      "2015-12-24    0.024180\n",
      "2015-12-25    0.865564\n",
      "2015-12-28    0.045716\n",
      "2015-12-29    0.040864\n",
      "2015-12-30    0.031373\n",
      "2015-12-31    0.075097\n",
      "Freq: B, Length: 261, dtype: float64\n"
     ]
    }
   ],
   "source": [
    "dti = pd.date_range(start='2015-01-01', end='2015-12-31', freq='B')\n",
    "s = pd.Series(np.random.rand(len(dti)), index=dti)\n",
    "print(s)"
   ]
  },
  {
   "cell_type": "markdown",
   "metadata": {},
   "source": [
    "3. Find the sum of the values in s for every Wednesday"
   ]
  },
  {
   "cell_type": "code",
   "execution_count": 5,
   "metadata": {},
   "outputs": [
    {
     "data": {
      "text/plain": [
       "25.745391631067104"
      ]
     },
     "execution_count": 5,
     "metadata": {},
     "output_type": "execute_result"
    }
   ],
   "source": [
    "s[dti.weekday == 2].sum()"
   ]
  },
  {
   "cell_type": "markdown",
   "metadata": {},
   "source": [
    "4. Average For each calendar month"
   ]
  },
  {
   "cell_type": "code",
   "execution_count": 6,
   "metadata": {},
   "outputs": [
    {
     "data": {
      "text/plain": [
       "2015-01-01    0.514914\n",
       "2015-02-01    0.541995\n",
       "2015-03-01    0.491379\n",
       "2015-04-01    0.437370\n",
       "2015-05-01    0.612590\n",
       "2015-06-01    0.489578\n",
       "2015-07-01    0.445729\n",
       "2015-08-01    0.585648\n",
       "2015-09-01    0.459684\n",
       "2015-10-01    0.412481\n",
       "2015-11-01    0.539113\n",
       "2015-12-01    0.408075\n",
       "Freq: MS, dtype: float64"
      ]
     },
     "execution_count": 6,
     "metadata": {},
     "output_type": "execute_result"
    }
   ],
   "source": [
    "s.resample('MS').mean()"
   ]
  },
  {
   "cell_type": "markdown",
   "metadata": {},
   "source": [
    "5. For each group of four consecutive calendar months in s, find the date on which the highest value occurred"
   ]
  },
  {
   "cell_type": "code",
   "execution_count": 7,
   "metadata": {},
   "outputs": [
    {
     "data": {
      "text/html": [
       "<div>\n",
       "<style scoped>\n",
       "    .dataframe tbody tr th:only-of-type {\n",
       "        vertical-align: middle;\n",
       "    }\n",
       "\n",
       "    .dataframe tbody tr th {\n",
       "        vertical-align: top;\n",
       "    }\n",
       "\n",
       "    .dataframe thead th {\n",
       "        text-align: right;\n",
       "    }\n",
       "</style>\n",
       "<table border=\"1\" class=\"dataframe\">\n",
       "  <thead>\n",
       "    <tr style=\"text-align: right;\">\n",
       "      <th></th>\n",
       "      <th>idxmax</th>\n",
       "      <th>max</th>\n",
       "    </tr>\n",
       "  </thead>\n",
       "  <tbody>\n",
       "    <tr>\n",
       "      <th>2015-01-30</th>\n",
       "      <td>2015-01-27</td>\n",
       "      <td>0.960324</td>\n",
       "    </tr>\n",
       "    <tr>\n",
       "      <th>2015-05-29</th>\n",
       "      <td>2015-03-17</td>\n",
       "      <td>0.990811</td>\n",
       "    </tr>\n",
       "    <tr>\n",
       "      <th>2015-09-30</th>\n",
       "      <td>2015-07-03</td>\n",
       "      <td>0.993741</td>\n",
       "    </tr>\n",
       "  </tbody>\n",
       "</table>\n",
       "</div>"
      ],
      "text/plain": [
       "               idxmax       max\n",
       "2015-01-30 2015-01-27  0.960324\n",
       "2015-05-29 2015-03-17  0.990811\n",
       "2015-09-30 2015-07-03  0.993741"
      ]
     },
     "execution_count": 7,
     "metadata": {},
     "output_type": "execute_result"
    }
   ],
   "source": [
    "s.groupby(pd.Grouper(freq='4BM')).agg(['idxmax','max'])[:3]"
   ]
  }
 ],
 "metadata": {
  "kernelspec": {
   "display_name": "Python 3",
   "language": "python",
   "name": "python3"
  },
  "language_info": {
   "codemirror_mode": {
    "name": "ipython",
    "version": 3
   },
   "file_extension": ".py",
   "mimetype": "text/x-python",
   "name": "python",
   "nbconvert_exporter": "python",
   "pygments_lexer": "ipython3",
   "version": "3.7.0"
  }
 },
 "nbformat": 4,
 "nbformat_minor": 2
}
